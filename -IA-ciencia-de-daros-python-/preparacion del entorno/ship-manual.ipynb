{
 "cells": [
  {
   "attachments": {},
   "cell_type": "markdown",
   "metadata": {},
   "source": [
    "instalar widget"
   ]
  },
  {
   "cell_type": "code",
   "execution_count": null,
   "metadata": {},
   "outputs": [
    {
     "name": "stdout",
     "output_type": "stream",
     "text": [
      "Note: you may need to restart the kernel to use updated packages.Collecting ipywidgets\n",
      "  Downloading ipywidgets-8.0.6-py3-none-any.whl (138 kB)\n",
      "     -------------------------------------- 138.3/138.3 KB 2.0 MB/s eta 0:00:00\n",
      "Collecting widgetsnbextension~=4.0.7\n",
      "  Downloading widgetsnbextension-4.0.7-py3-none-any.whl (2.1 MB)\n",
      "     ---------------------------------------- 2.1/2.1 MB 9.6 MB/s eta 0:00:00\n",
      "Requirement already satisfied: ipykernel>=4.5.1 in c:\\users\\claudia\\appdata\\roaming\\python\\python39\\site-packages (from ipywidgets) (6.19.4)\n",
      "Collecting jupyterlab-widgets~=3.0.7\n",
      "  Downloading jupyterlab_widgets-3.0.7-py3-none-any.whl (198 kB)\n",
      "     ------------------------------------- 198.2/198.2 KB 12.5 MB/s eta 0:00:00\n",
      "Requirement already satisfied: ipython>=6.1.0 in c:\\users\\claudia\\appdata\\roaming\\python\\python39\\site-packages (from ipywidgets) (8.7.0)\n",
      "Requirement already satisfied: traitlets>=4.3.1 in c:\\users\\claudia\\appdata\\roaming\\python\\python39\\site-packages (from ipywidgets) (5.8.0)\n",
      "Requirement already satisfied: jupyter-client>=6.1.12 in c:\\users\\claudia\\appdata\\roaming\\python\\python39\\site-packages (from ipykernel>=4.5.1->ipywidgets) (7.4.8)\n",
      "Requirement already satisfied: psutil in c:\\users\\claudia\\appdata\\roaming\\python\\python39\\site-packages (from ipykernel>=4.5.1->ipywidgets) (5.9.4)\n",
      "Requirement already satisfied: debugpy>=1.0 in c:\\users\\claudia\\appdata\\roaming\\python\\python39\\site-packages (from ipykernel>=4.5.1->ipywidgets) (1.6.4)\n",
      "Requirement already satisfied: packaging in c:\\users\\claudia\\appdata\\roaming\\python\\python39\\site-packages (from ipykernel>=4.5.1->ipywidgets) (22.0)\n",
      "Requirement already satisfied: pyzmq>=17 in c:\\users\\claudia\\appdata\\roaming\\python\\python39\\site-packages (from ipykernel>=4.5.1->ipywidgets) (24.0.1)\n",
      "Requirement already satisfied: tornado>=6.1 in c:\\users\\claudia\\appdata\\roaming\\python\\python39\\site-packages (from ipykernel>=4.5.1->ipywidgets) (6.2)\n",
      "Requirement already satisfied: matplotlib-inline>=0.1 in c:\\users\\claudia\\appdata\\roaming\\python\\python39\\site-packages (from ipykernel>=4.5.1->ipywidgets) (0.1.6)\n",
      "Requirement already satisfied: nest-asyncio in c:\\users\\claudia\\appdata\\roaming\\python\\python39\\site-packages (from ipykernel>=4.5.1->ipywidgets) (1.5.6)\n",
      "Requirement already satisfied: comm>=0.1.1 in c:\\users\\claudia\\appdata\\roaming\\python\\python39\\site-packages (from ipykernel>=4.5.1->ipywidgets) (0.1.2)\n",
      "Requirement already satisfied: stack-data in c:\\users\\claudia\\appdata\\roaming\\python\\python39\\site-packages (from ipython>=6.1.0->ipywidgets) (0.6.2)\n",
      "Requirement already satisfied: colorama in c:\\users\\claudia\\appdata\\roaming\\python\\python39\\site-packages (from ipython>=6.1.0->ipywidgets) (0.4.6)\n",
      "Requirement already satisfied: pickleshare in c:\\users\\claudia\\appdata\\roaming\\python\\python39\\site-packages (from ipython>=6.1.0->ipywidgets) (0.7.5)\n",
      "Requirement already satisfied: decorator in c:\\users\\claudia\\appdata\\roaming\\python\\python39\\site-packages (from ipython>=6.1.0->ipywidgets) (5.1.1)\n",
      "Requirement already satisfied: jedi>=0.16 in c:\\users\\claudia\\appdata\\roaming\\python\\python39\\site-packages (from ipython>=6.1.0->ipywidgets) (0.18.2)\n",
      "Requirement already satisfied: prompt-toolkit<3.1.0,>=3.0.11 in c:\\users\\claudia\\appdata\\roaming\\python\\python39\\site-packages (from ipython>=6.1.0->ipywidgets) (3.0.36)\n",
      "Requirement already satisfied: pygments>=2.4.0 in c:\\users\\claudia\\appdata\\roaming\\python\\python39\\site-packages (from ipython>=6.1.0->ipywidgets) (2.13.0)\n",
      "Requirement already satisfied: backcall in c:\\users\\claudia\\appdata\\roaming\\python\\python39\\site-packages (from ipython>=6.1.0->ipywidgets) (0.2.0)\n",
      "Requirement already satisfied: parso<0.9.0,>=0.8.0 in c:\\users\\claudia\\appdata\\roaming\\python\\python39\\site-packages (from jedi>=0.16->ipython>=6.1.0->ipywidgets) (0.8.3)\n",
      "Requirement already satisfied: entrypoints in c:\\users\\claudia\\appdata\\roaming\\python\\python39\\site-packages (from jupyter-client>=6.1.12->ipykernel>=4.5.1->ipywidgets) (0.4)\n",
      "Requirement already satisfied: jupyter-core>=4.9.2 in c:\\users\\claudia\\appdata\\roaming\\python\\python39\\site-packages (from jupyter-client>=6.1.12->ipykernel>=4.5.1->ipywidgets) (5.1.1)\n",
      "Requirement already satisfied: python-dateutil>=2.8.2 in c:\\users\\claudia\\appdata\\roaming\\python\\python39\\site-packages (from jupyter-client>=6.1.12->ipykernel>=4.5.1->ipywidgets) (2.8.2)\n",
      "Requirement already satisfied: wcwidth in c:\\users\\claudia\\appdata\\roaming\\python\\python39\\site-packages (from prompt-toolkit<3.1.0,>=3.0.11->ipython>=6.1.0->ipywidgets) (0.2.5)\n",
      "Requirement already satisfied: executing>=1.2.0 in c:\\users\\claudia\\appdata\\roaming\\python\\python39\\site-packages (from stack-data->ipython>=6.1.0->ipywidgets) (1.2.0)\n",
      "Requirement already satisfied: pure-eval in c:\\users\\claudia\\appdata\\roaming\\python\\python39\\site-packages (from stack-data->ipython>=6.1.0->ipywidgets) (0.2.2)\n",
      "Requirement already satisfied: asttokens>=2.1.0 in c:\\users\\claudia\\appdata\\roaming\\python\\python39\\site-packages (from stack-data->ipython>=6.1.0->ipywidgets) (2.2.1)\n",
      "Requirement already satisfied: six in c:\\users\\claudia\\appdata\\roaming\\python\\python39\\site-packages (from asttokens>=2.1.0->stack-data->ipython>=6.1.0->ipywidgets) (1.16.0)\n",
      "Requirement already satisfied: platformdirs>=2.5 in c:\\users\\claudia\\appdata\\roaming\\python\\python39\\site-packages (from jupyter-core>=4.9.2->jupyter-client>=6.1.12->ipykernel>=4.5.1->ipywidgets) (2.6.0)\n",
      "Requirement already satisfied: pywin32>=1.0 in c:\\users\\claudia\\appdata\\roaming\\python\\python39\\site-packages (from jupyter-core>=4.9.2->jupyter-client>=6.1.12->ipykernel>=4.5.1->ipywidgets) (305)\n",
      "Installing collected packages: widgetsnbextension, jupyterlab-widgets, ipywidgets\n",
      "Successfully installed ipywidgets-8.0.6 jupyterlab-widgets-3.0.7 widgetsnbextension-4.0.7\n",
      "\n"
     ]
    },
    {
     "name": "stderr",
     "output_type": "stream",
     "text": [
      "WARNING: You are using pip version 22.0.4; however, version 23.1.2 is available.\n",
      "You should consider upgrading via the 'c:\\Users\\claudia\\AppData\\Local\\Programs\\Python\\Python39\\python.exe -m pip install --upgrade pip' command.\n"
     ]
    }
   ],
   "source": [
    "pip install ipywidgets"
   ]
  },
  {
   "cell_type": "code",
   "execution_count": 3,
   "metadata": {},
   "outputs": [
    {
     "data": {
      "application/vnd.jupyter.widget-view+json": {
       "model_id": "53b7c13999de4b5fbfd9830d8c348ed6",
       "version_major": 2,
       "version_minor": 0
      },
      "text/plain": [
       "ToggleButton(value=False, button_style='success', description='Iniciar Launch', icon='rocket', tooltip='Engage…"
      ]
     },
     "metadata": {},
     "output_type": "display_data"
    },
    {
     "data": {
      "application/vnd.jupyter.widget-view+json": {
       "model_id": "551f13c8b1cd4ecab81e287109431d7f",
       "version_major": 2,
       "version_minor": 0
      },
      "text/plain": [
       "Output()"
      ]
     },
     "metadata": {},
     "output_type": "display_data"
    }
   ],
   "source": [
    "import ipywidgets as widgets\n",
    "\n",
    "ignition = widgets.ToggleButton(\n",
    "    value=False,\n",
    "    description='Iniciar Launch',\n",
    "    button_style='success',\n",
    "    tooltip='Engage your Launch',\n",
    "    icon='rocket'\n",
    ")\n",
    "\n",
    "output = widgets.Output()\n",
    "\n",
    "display(ignition, output)\n",
    "\n",
    "def on_value_change(change):\n",
    "    with output:\n",
    "        if change['new'] == True:\n",
    "            print(\"Nave Iniciada!\")\n",
    "        else:   \n",
    "            print(\"Nave Detenida\")\n",
    "\n",
    "ignition.observe(on_value_change, names='value')"
   ]
  },
  {
   "attachments": {},
   "cell_type": "markdown",
   "metadata": {},
   "source": [
    "instalar comandos avanzados"
   ]
  },
  {
   "cell_type": "code",
   "execution_count": 3,
   "metadata": {},
   "outputs": [
    {
     "name": "stdout",
     "output_type": "stream",
     "text": [
      "Collecting matplotlib\n",
      "  Downloading matplotlib-3.7.1-cp311-cp311-win_amd64.whl (7.6 MB)\n",
      "                                              0.0/7.6 MB ? eta -:--:--\n",
      "                                              0.1/7.6 MB 2.2 MB/s eta 0:00:04\n",
      "     -                                        0.3/7.6 MB 2.8 MB/s eta 0:00:03\n",
      "     ---                                      0.6/7.6 MB 4.5 MB/s eta 0:00:02\n",
      "     ------                                   1.2/7.6 MB 6.2 MB/s eta 0:00:02\n",
      "     ---------                                1.7/7.6 MB 7.3 MB/s eta 0:00:01\n",
      "     -----------                              2.3/7.6 MB 8.0 MB/s eta 0:00:01\n",
      "     --------------                           2.8/7.6 MB 8.5 MB/s eta 0:00:01\n",
      "     -----------------                        3.4/7.6 MB 8.9 MB/s eta 0:00:01\n",
      "     --------------------                     3.9/7.6 MB 9.2 MB/s eta 0:00:01\n",
      "     -----------------------                  4.4/7.6 MB 9.4 MB/s eta 0:00:01\n",
      "     --------------------------               5.0/7.6 MB 9.6 MB/s eta 0:00:01\n",
      "     -----------------------------            5.5/7.6 MB 9.8 MB/s eta 0:00:01\n",
      "     -------------------------------          6.1/7.6 MB 10.0 MB/s eta 0:00:01\n",
      "     ----------------------------------       6.6/7.6 MB 10.1 MB/s eta 0:00:01\n",
      "     -------------------------------------    7.2/7.6 MB 10.2 MB/s eta 0:00:01\n",
      "     ---------------------------------------  7.6/7.6 MB 10.4 MB/s eta 0:00:01\n",
      "     ---------------------------------------  7.6/7.6 MB 10.4 MB/s eta 0:00:01\n",
      "     ---------------------------------------- 7.6/7.6 MB 9.6 MB/s eta 0:00:00\n",
      "Collecting contourpy>=1.0.1 (from matplotlib)\n",
      "  Downloading contourpy-1.1.0-cp311-cp311-win_amd64.whl (470 kB)\n",
      "                                              0.0/470.9 kB ? eta -:--:--\n",
      "     ----------------------------------    440.3/470.9 kB 13.9 MB/s eta 0:00:01\n",
      "     -------------------------------------- 470.9/470.9 kB 5.9 MB/s eta 0:00:00\n",
      "Collecting cycler>=0.10 (from matplotlib)\n",
      "  Downloading cycler-0.11.0-py3-none-any.whl (6.4 kB)\n",
      "Collecting fonttools>=4.22.0 (from matplotlib)\n",
      "  Downloading fonttools-4.40.0-cp311-cp311-win_amd64.whl (1.9 MB)\n",
      "                                              0.0/1.9 MB ? eta -:--:--\n",
      "     -----------                              0.5/1.9 MB 16.6 MB/s eta 0:00:01\n",
      "     ----------------------                   1.1/1.9 MB 13.5 MB/s eta 0:00:01\n",
      "     ---------------------------------        1.6/1.9 MB 13.1 MB/s eta 0:00:01\n",
      "     ---------------------------------------  1.9/1.9 MB 12.3 MB/s eta 0:00:01\n",
      "     ---------------------------------------- 1.9/1.9 MB 11.2 MB/s eta 0:00:00\n",
      "Collecting kiwisolver>=1.0.1 (from matplotlib)\n",
      "  Downloading kiwisolver-1.4.4-cp311-cp311-win_amd64.whl (55 kB)\n",
      "                                              0.0/55.4 kB ? eta -:--:--\n",
      "     ---------------------------------------- 55.4/55.4 kB 3.0 MB/s eta 0:00:00\n",
      "Collecting numpy>=1.20 (from matplotlib)\n",
      "  Downloading numpy-1.25.0-cp311-cp311-win_amd64.whl (15.0 MB)\n",
      "                                              0.0/15.0 MB ? eta -:--:--\n",
      "     -                                        0.6/15.0 MB 12.2 MB/s eta 0:00:02\n",
      "     --                                       1.1/15.0 MB 11.9 MB/s eta 0:00:02\n",
      "     ----                                     1.7/15.0 MB 11.8 MB/s eta 0:00:02\n",
      "     -----                                    2.2/15.0 MB 11.7 MB/s eta 0:00:02\n",
      "     -------                                  2.7/15.0 MB 11.6 MB/s eta 0:00:02\n",
      "     --------                                 3.3/15.0 MB 11.6 MB/s eta 0:00:02\n",
      "     ----------                               3.8/15.0 MB 11.6 MB/s eta 0:00:01\n",
      "     -----------                              4.4/15.0 MB 11.6 MB/s eta 0:00:01\n",
      "     -------------                            4.9/15.0 MB 12.0 MB/s eta 0:00:01\n",
      "     --------------                           5.4/15.0 MB 12.0 MB/s eta 0:00:01\n",
      "     ---------------                          6.0/15.0 MB 11.9 MB/s eta 0:00:01\n",
      "     -----------------                        6.5/15.0 MB 11.9 MB/s eta 0:00:01\n",
      "     ------------------                       7.1/15.0 MB 11.9 MB/s eta 0:00:01\n",
      "     --------------------                     7.6/15.0 MB 11.8 MB/s eta 0:00:01\n",
      "     ---------------------                    8.2/15.0 MB 11.8 MB/s eta 0:00:01\n",
      "     -----------------------                  8.7/15.0 MB 11.8 MB/s eta 0:00:01\n",
      "     ------------------------                 9.2/15.0 MB 11.8 MB/s eta 0:00:01\n",
      "     --------------------------               9.8/15.0 MB 11.8 MB/s eta 0:00:01\n",
      "     --------------------------              10.3/15.0 MB 11.7 MB/s eta 0:00:01\n",
      "     ----------------------------            10.9/15.0 MB 11.7 MB/s eta 0:00:01\n",
      "     -----------------------------           11.4/15.0 MB 11.7 MB/s eta 0:00:01\n",
      "     ------------------------------          11.9/15.0 MB 11.7 MB/s eta 0:00:01\n",
      "     --------------------------------        12.5/15.0 MB 11.7 MB/s eta 0:00:01\n",
      "     ---------------------------------       12.9/15.0 MB 11.7 MB/s eta 0:00:01\n",
      "     ---------------------------------       12.9/15.0 MB 11.7 MB/s eta 0:00:01\n",
      "     ------------------------------------    14.0/15.0 MB 11.5 MB/s eta 0:00:01\n",
      "     -------------------------------------   14.3/15.0 MB 11.3 MB/s eta 0:00:01\n",
      "     --------------------------------------  14.8/15.0 MB 11.3 MB/s eta 0:00:01\n",
      "     --------------------------------------  15.0/15.0 MB 11.3 MB/s eta 0:00:01\n",
      "     --------------------------------------- 15.0/15.0 MB 10.6 MB/s eta 0:00:00\n",
      "Collecting packaging>=20.0 (from matplotlib)\n",
      "  Downloading packaging-23.1-py3-none-any.whl (48 kB)\n",
      "                                              0.0/48.9 kB ? eta -:--:--\n",
      "     ---------------------------------------- 48.9/48.9 kB 1.2 MB/s eta 0:00:00\n",
      "Collecting pillow>=6.2.0 (from matplotlib)\n",
      "  Downloading Pillow-9.5.0-cp311-cp311-win_amd64.whl (2.5 MB)\n",
      "                                              0.0/2.5 MB ? eta -:--:--\n",
      "     -------                                  0.4/2.5 MB 13.9 MB/s eta 0:00:01\n",
      "     ---------------                          1.0/2.5 MB 12.6 MB/s eta 0:00:01\n",
      "     ------------------------                 1.5/2.5 MB 12.1 MB/s eta 0:00:01\n",
      "     --------------------------------         2.1/2.5 MB 12.0 MB/s eta 0:00:01\n",
      "     ---------------------------------------  2.5/2.5 MB 12.3 MB/s eta 0:00:01\n",
      "     ---------------------------------------- 2.5/2.5 MB 10.7 MB/s eta 0:00:00\n",
      "Collecting pyparsing>=2.3.1 (from matplotlib)\n",
      "  Downloading pyparsing-3.1.0-py3-none-any.whl (102 kB)\n",
      "                                              0.0/102.6 kB ? eta -:--:--\n",
      "     -------------------------------------- 102.6/102.6 kB 5.8 MB/s eta 0:00:00\n",
      "Collecting python-dateutil>=2.7 (from matplotlib)\n",
      "  Using cached python_dateutil-2.8.2-py2.py3-none-any.whl (247 kB)\n",
      "Collecting six>=1.5 (from python-dateutil>=2.7->matplotlib)\n",
      "  Using cached six-1.16.0-py2.py3-none-any.whl (11 kB)\n",
      "Installing collected packages: six, pyparsing, pillow, packaging, numpy, kiwisolver, fonttools, cycler, python-dateutil, contourpy, matplotlib\n",
      "Successfully installed contourpy-1.1.0 cycler-0.11.0 fonttools-4.40.0 kiwisolver-1.4.4 matplotlib-3.7.1 numpy-1.25.0 packaging-23.1 pillow-9.5.0 pyparsing-3.1.0 python-dateutil-2.8.2 six-1.16.0\n"
     ]
    },
    {
     "name": "stderr",
     "output_type": "stream",
     "text": [
      "  WARNING: The script f2py.exe is installed in 'C:\\Users\\claudia\\AppData\\Local\\Packages\\PythonSoftwareFoundation.Python.3.11_qbz5n2kfra8p0\\LocalCache\\local-packages\\Python311\\Scripts' which is not on PATH.\n",
      "  Consider adding this directory to PATH or, if you prefer to suppress this warning, use --no-warn-script-location.\n",
      "  WARNING: The scripts fonttools.exe, pyftmerge.exe, pyftsubset.exe and ttx.exe are installed in 'C:\\Users\\claudia\\AppData\\Local\\Packages\\PythonSoftwareFoundation.Python.3.11_qbz5n2kfra8p0\\LocalCache\\local-packages\\Python311\\Scripts' which is not on PATH.\n",
      "  Consider adding this directory to PATH or, if you prefer to suppress this warning, use --no-warn-script-location.\n"
     ]
    },
    {
     "name": "stdout",
     "output_type": "stream",
     "text": [
      "Requirement already satisfied: numpy in c:\\users\\claudia\\appdata\\local\\packages\\pythonsoftwarefoundation.python.3.11_qbz5n2kfra8p0\\localcache\\local-packages\\python311\\site-packages (1.25.0)\n"
     ]
    }
   ],
   "source": [
    "!pip install matplotlib\n"
   ]
  },
  {
   "cell_type": "code",
   "execution_count": 11,
   "metadata": {},
   "outputs": [
    {
     "name": "stdout",
     "output_type": "stream",
     "text": [
      "Requirement already satisfied: numpy in c:\\users\\claudia\\appdata\\local\\packages\\pythonsoftwarefoundation.python.3.11_qbz5n2kfra8p0\\localcache\\local-packages\\python311\\site-packages (1.25.0)\n"
     ]
    }
   ],
   "source": [
    "!pip install numpy"
   ]
  },
  {
   "attachments": {},
   "cell_type": "markdown",
   "metadata": {},
   "source": [
    "## Niveles de oxieno\n",
    "Muestra diez minutos de nivels de oxieno en tu nave."
   ]
  },
  {
   "cell_type": "code",
   "execution_count": 1,
   "metadata": {},
   "outputs": [
    {
     "data": {
      "image/png": "[encoded data removed]",
      "text/plain": [
       "<Figure size 640x480 with 1 Axes>"
      ]
     },
     "metadata": {},
     "output_type": "display_data"
    }
   ],
   "source": [
    " import numpy as np\n",
    "import matplotlib.pyplot as plt\n",
    "data = np.random.default_rng(12345)\n",
    "oxy_nums = data.integers(low=0, high=10, size=10)\n",
    "\n",
    "plt.bar(range(len(oxy_nums)), oxy_nums)\n",
    "plt.show()"
   ]
  },
  {
   "attachments": {},
   "cell_type": "markdown",
   "metadata": {},
   "source": [
    "## Velocidad de la nave\n",
    "\n",
    "Muestra los segundos necesarios para pasar de 0 a 11200 metros por segundo, dada la aceleración de la nave en metros por segundo."
   ]
  },
  {
   "cell_type": "code",
   "execution_count": 2,
   "metadata": {},
   "outputs": [
    {
     "name": "stdout",
     "output_type": "stream",
     "text": [
      "Tiempo para alcanzar la velocidad deseada =  62.5\n"
     ]
    }
   ],
   "source": [
    "endVelocity = 250\n",
    "startVelocity = 0\n",
    "acceleration = 4\n",
    "\n",
    "time = (endVelocity - startVelocity) / acceleration\n",
    "print(\"Tiempo para alcanzar la velocidad deseada = \", time)"
   ]
  }
 ],
 "metadata": {
  "kernelspec": {
   "display_name": "Python 3",
   "language": "python",
   "name": "python3"
  },
  "language_info": {
   "codemirror_mode": {
    "name": "ipython",
    "version": 3
   },
   "file_extension": ".py",
   "mimetype": "text/x-python",
   "name": "python",
   "nbconvert_exporter": "python",
   "pygments_lexer": "ipython3",
   "version": "3.11.4"
  },
  "orig_nbformat": 4
 },
 "nbformat": 4,
 "nbformat_minor": 2
}
